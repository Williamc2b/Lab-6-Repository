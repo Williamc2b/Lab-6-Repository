{
 "cells": [
  {
   "cell_type": "code",
   "execution_count": 1,
   "id": "3fa626af-3155-46e3-a1c8-90e551a81b01",
   "metadata": {},
   "outputs": [],
   "source": [
    "class Lab6\n",
    "{\n",
    "\tpublic static void Main(String[] arg)\n",
    "\t{\n",
    "\t      System.out.println(\"Hello World\");\n",
    "          System.out.println(\"Hello World\");\n",
    "\t}\n",
    "}"
   ]
  },
  {
   "cell_type": "code",
   "execution_count": 2,
   "id": "c339aeeb-e31a-41db-9959-a59cbec5fbf1",
   "metadata": {},
   "outputs": [
    {
     "name": "stdout",
     "output_type": "stream",
     "text": [
      "Hello World\n"
     ]
    }
   ],
   "source": [
    "Lab6.Main(null);"
   ]
  },
  {
   "cell_type": "code",
   "execution_count": null,
   "id": "4e7a8b54-cd65-49ca-8b4f-e3b22ec398a3",
   "metadata": {},
   "outputs": [],
   "source": []
  }
 ],
 "metadata": {
  "kernelspec": {
   "display_name": "Java",
   "language": "java",
   "name": "java"
  },
  "language_info": {
   "codemirror_mode": "java",
   "file_extension": ".jshell",
   "mimetype": "text/x-java-source",
   "name": "Java",
   "pygments_lexer": "java",
   "version": "11.0.8+10-LTS"
  }
 },
 "nbformat": 4,
 "nbformat_minor": 5
}
